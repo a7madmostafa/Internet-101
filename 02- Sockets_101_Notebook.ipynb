{
 "cells": [
  {
   "cell_type": "markdown",
   "metadata": {},
   "source": [
    "\n",
    "# Sockets 101 — Client & Server (Theory + Code)\n",
    "\n",
    "This notebook teaches **sockets**, **clients**, and **servers** step by step, then builds a tiny **HTTP** server and client — just like the low-level examples used in *Django for Everybody* before jumping into frameworks.\n",
    "\n",
    "**What you'll do:**\n",
    "1. Understand the TCP socket model (in plain English)\n",
    "2. Run a minimal **echo server** (raw sockets)\n",
    "3. Talk to it with a **client**\n",
    "4. Build a tiny **HTTP server** on top of sockets\n",
    "5. Query it with a **manual HTTP client** and with **urllib**\n",
    "6. Practice exercises to solidify the concepts\n",
    "\n",
    "> Tip: Run servers in one kernel/terminal, and clients in another (or stop/start between runs). Use `Ctrl+C` to stop a running server cell.\n"
   ]
  },
  {
   "cell_type": "markdown",
   "metadata": {},
   "source": [
    "\n",
    "## 1) Mental model: sockets, client, server (theory)\n",
    "\n",
    "- A **socket** is a two-ended pipe between two programs over the network.\n",
    "  - One end is on the **server**, the other on the **client**.\n",
    "- **Server** lifecycle (blocking version):\n",
    "  1. `socket()` → create a TCP socket (`AF_INET`, `SOCK_STREAM`)\n",
    "\n",
    "  2. `bind((HOST, PORT))` → attach to an address/port\n",
    "\n",
    "  3. `listen(backlog)` → start listening queue\n",
    "\n",
    "  4. `accept()` → wait; returns a new per-connection socket\n",
    "\n",
    "  5. `recv()/sendall()` → exchange bytes\n",
    "\n",
    "  6. close connection (loop back to step 4)\n",
    "- **Client** lifecycle:\n",
    "  1. `socket()`\n",
    "\n",
    "  2. `connect((HOST, PORT))` → TCP handshake\n",
    "\n",
    "  3. `sendall()` request → `recv()` response\n",
    "\n",
    "  4. close\n",
    "\n",
    "**HTTP** is just *structured text over TCP* (request + headers + blank line + optional body). Frameworks like **Django** sit on top of these layers.\n"
   ]
  },
  {
   "cell_type": "markdown",
   "metadata": {},
   "source": [
    "## 2) Echo server (raw TCP) — run this cell to start the server"
   ]
  },
  {
   "cell_type": "code",
   "execution_count": 1,
   "metadata": {
    "execution": {
     "iopub.status.busy": "2025-10-22T00:00:00Z"
    }
   },
   "outputs": [
    {
     "name": "stdout",
     "output_type": "stream",
     "text": [
      "Ready: call run_echo_server() to start. Stop with Kernel Interrupt or Ctrl+C.\n"
     ]
    }
   ],
   "source": [
    "\n",
    "import socket\n",
    "\n",
    "HOST = \"127.0.0.1\"  # loopback (localhost)\n",
    "PORT = 9000         # change if busy\n",
    "\n",
    "def run_echo_server(host=HOST, port=PORT):\n",
    "    # Create a TCP socket\n",
    "    with socket.socket(socket.AF_INET, socket.SOCK_STREAM) as server_sock:\n",
    "        # Avoid 'Address already in use' on quick restarts\n",
    "        server_sock.setsockopt(socket.SOL_SOCKET, socket.SO_REUSEADDR, 1)\n",
    "\n",
    "        # Bind and listen\n",
    "        server_sock.bind((host, port))\n",
    "        server_sock.listen(5)\n",
    "        print(f\"Echo server listening on {host}:{port} (Ctrl+C to stop)\")\n",
    "\n",
    "        while True:\n",
    "            conn, addr = server_sock.accept()\n",
    "            with conn:\n",
    "                print(f\"Connected by {addr}\")\n",
    "                while True:\n",
    "                    data = conn.recv(1024)\n",
    "                    if not data:  # client closed\n",
    "                        break\n",
    "                    # Echo back the exact bytes we got\n",
    "                    conn.sendall(data)\n",
    "                print(f\"Connection closed: {addr}\")\n",
    "\n",
    "# Uncomment to run the server in this cell (it will block):\n",
    "# run_echo_server()\n",
    "print(\"Ready: call run_echo_server() to start. Stop with Kernel Interrupt or Ctrl+C.\")\n"
   ]
  },
  {
   "cell_type": "markdown",
   "metadata": {},
   "source": [
    "## 3) Echo client — run this in a second session/after server is up"
   ]
  },
  {
   "cell_type": "code",
   "execution_count": 2,
   "metadata": {},
   "outputs": [
    {
     "name": "stdout",
     "output_type": "stream",
     "text": [
      "Ready: call talk_to_echo() after the server is running.\n"
     ]
    }
   ],
   "source": [
    "\n",
    "import socket\n",
    "\n",
    "HOST = \"127.0.0.1\"\n",
    "PORT = 9000\n",
    "\n",
    "def talk_to_echo(host=HOST, port=PORT):\n",
    "    with socket.socket(socket.AF_INET, socket.SOCK_STREAM) as sock:\n",
    "        sock.connect((host, port))\n",
    "        print(\"Connected. Type a message (empty line to exit).\")\n",
    "        while True:\n",
    "            msg = input(\"You> \")\n",
    "            if not msg:\n",
    "                break\n",
    "            sock.sendall(msg.encode(\"utf-8\"))\n",
    "            data = sock.recv(1024)\n",
    "            print(\"Server>\", data.decode(\"utf-8\", errors=\"replace\"))\n",
    "    print(\"Bye!\")\n",
    "\n",
    "# Uncomment to try:\n",
    "# talk_to_echo()\n",
    "print(\"Ready: call talk_to_echo() after the server is running.\")\n"
   ]
  },
  {
   "cell_type": "markdown",
   "metadata": {},
   "source": [
    "\n",
    "## 4) Tiny HTTP server (raw sockets)\n",
    "\n",
    "This is a minimal HTTP/1.1 server:\n",
    "\n",
    "- Parses only the first line of the request\n",
    "\n",
    "- Always replies `200 OK` with HTML\n",
    "\n",
    "- Uses headers: `Content-Type`, `Content-Length`, `Connection: close`\n",
    "\n",
    "Run the function below, then open your browser at **http://127.0.0.1:9000/**\n"
   ]
  },
  {
   "cell_type": "code",
   "execution_count": 3,
   "metadata": {},
   "outputs": [
    {
     "name": "stdout",
     "output_type": "stream",
     "text": [
      "Ready: call run_http_server() to start the HTTP server.\n"
     ]
    }
   ],
   "source": [
    "\n",
    "import socket\n",
    "from datetime import datetime\n",
    "\n",
    "HOST = \"127.0.0.1\"\n",
    "PORT = 9000\n",
    "\n",
    "def build_http_response(body: str, status=\"200 OK\", headers=None):\n",
    "    headers = headers or {}\n",
    "    default_headers = {\n",
    "        \"Content-Type\": \"text/html; charset=utf-8\",\n",
    "        \"Content-Length\": str(len(body.encode(\"utf-8\"))),\n",
    "        \"Connection\": \"close\",\n",
    "    }\n",
    "    default_headers.update(headers)\n",
    "    head_lines = \"\\r\\n\".join(f\"{k}: {v}\" for k, v in default_headers.items())\n",
    "    return f\"HTTP/1.1 {status}\\r\\n{head_lines}\\r\\n\\r\\n{body}\".encode(\"utf-8\")\n",
    "\n",
    "def run_http_server(host=HOST, port=PORT):\n",
    "    response_body = f\"\"\"\n",
    "    <!doctype html>\n",
    "    <html>\n",
    "      <head><meta charset=\"utf-8\"><title>Mini HTTP</title></head>\n",
    "      <body style=\"font-family: system-ui; padding: 2rem;\">\n",
    "        <h1>It works! 🎉</h1>\n",
    "        <p>Served by a raw-socket HTTP server at {datetime.utcnow().isoformat()}Z</p>\n",
    "      </body>\n",
    "    </html>\n",
    "    \"\"\"\n",
    "    with socket.socket(socket.AF_INET, socket.SOCK_STREAM) as s:\n",
    "        s.setsockopt(socket.SOL_SOCKET, socket.SO_REUSEADDR, 1)\n",
    "        s.bind((host, port))\n",
    "        s.listen(5)\n",
    "        print(f\"HTTP server at http://{host}:{port}/  (Ctrl+C to stop)\")\n",
    "        while True:\n",
    "            conn, addr = s.accept()\n",
    "            with conn:\n",
    "                request = conn.recv(4096).decode(\"utf-8\", errors=\"replace\")\n",
    "                first_line = request.split(\"\\r\\n\", 1)[0]\n",
    "                print(f\"[{addr}] {first_line}\")\n",
    "                conn.sendall(build_http_response(response_body))\n",
    "\n",
    "# Uncomment to run:\n",
    "# run_http_server()\n",
    "print(\"Ready: call run_http_server() to start the HTTP server.\")\n"
   ]
  },
  {
   "cell_type": "markdown",
   "metadata": {},
   "source": [
    "## 5) Manual HTTP client (raw sockets)"
   ]
  },
  {
   "cell_type": "code",
   "execution_count": 4,
   "metadata": {},
   "outputs": [
    {
     "name": "stdout",
     "output_type": "stream",
     "text": [
      "Ready: call manual_http_get('/') while the HTTP server is running.\n"
     ]
    }
   ],
   "source": [
    "\n",
    "import socket\n",
    "\n",
    "HOST = \"127.0.0.1\"\n",
    "PORT = 9000\n",
    "\n",
    "def manual_http_get(host=HOST, port=PORT, path=\"/\"):\n",
    "    with socket.socket(socket.AF_INET, socket.SOCK_STREAM) as sock:\n",
    "        sock.connect((host, port))\n",
    "        req = (\n",
    "            f\"GET {path} HTTP/1.1\\r\\n\"\n",
    "            f\"Host: {host}:{port}\\r\\n\"\n",
    "            \"User-Agent: RawSocketDemo/1.0\\r\\n\"\n",
    "            \"Connection: close\\r\\n\"\n",
    "            \"\\r\\n\"\n",
    "        )\n",
    "        sock.sendall(req.encode(\"utf-8\"))\n",
    "        chunks = []\n",
    "        while True:\n",
    "            data = sock.recv(4096)\n",
    "            if not data:\n",
    "                break\n",
    "            chunks.append(data)\n",
    "    resp = b\"\".join(chunks).decode(\"utf-8\", errors=\"replace\")\n",
    "    print(resp)\n",
    "\n",
    "# Uncomment after starting run_http_server():\n",
    "# manual_http_get(\"/\")\n",
    "print(\"Ready: call manual_http_get('/') while the HTTP server is running.\")\n"
   ]
  },
  {
   "cell_type": "markdown",
   "metadata": {},
   "source": [
    "## 6) Same idea with urllib (high-level)"
   ]
  },
  {
   "cell_type": "code",
   "execution_count": 5,
   "metadata": {},
   "outputs": [
    {
     "name": "stdout",
     "output_type": "stream",
     "text": [
      "Ready: call urllib_fetch() while the HTTP server is running.\n"
     ]
    }
   ],
   "source": [
    "\n",
    "from urllib.request import urlopen\n",
    "\n",
    "def urllib_fetch(url=\"http://127.0.0.1:9000/\"):\n",
    "    with urlopen(url) as resp:\n",
    "        print(\"Status:\", resp.status)\n",
    "        print(\"Headers:\")\n",
    "        for k, v in resp.getheaders():\n",
    "            print(f\"  {k}: {v}\")\n",
    "        print(\"\\nBody:\\n\")\n",
    "        print(resp.read().decode(\"utf-8\", errors=\"replace\"))\n",
    "\n",
    "# Uncomment after starting run_http_server():\n",
    "# urllib_fetch()\n",
    "print(\"Ready: call urllib_fetch() while the HTTP server is running.\")\n"
   ]
  },
  {
   "cell_type": "markdown",
   "metadata": {},
   "source": [
    "\n",
    "## 7) Exercises (try these)\n",
    "\n",
    "1. **Echo+ Uppercase** — Modify the echo server to uppercase each message before echoing.\n",
    "\n",
    "2. **HTTP routing** — In `run_http_server`, change response based on `path` from the first request line:\n",
    "\n",
    "   - `/` → current HTML\n",
    "\n",
    "   - `/time` → JSON with `{\"utc\": \"...\"}` and `Content-Type: application/json`\n",
    "\n",
    "3. **Manual client paths** — Call `manual_http_get(\"/time\")` and verify JSON output.\n",
    "\n",
    "4. **Port in use** — If you get `Address already in use`, set a different `PORT` (e.g., 9010) on both server and client.\n",
    "\n",
    "\n",
    "When these feel easy, explore **threading** or **asyncio** to handle multiple clients at once.\n"
   ]
  }
 ],
 "metadata": {
  "kernelspec": {
   "display_name": "base",
   "language": "python",
   "name": "python3"
  },
  "language_info": {
   "codemirror_mode": {
    "name": "ipython",
    "version": 3
   },
   "file_extension": ".py",
   "mimetype": "text/x-python",
   "name": "python",
   "nbconvert_exporter": "python",
   "pygments_lexer": "ipython3",
   "version": "3.13.5"
  }
 },
 "nbformat": 4,
 "nbformat_minor": 5
}
